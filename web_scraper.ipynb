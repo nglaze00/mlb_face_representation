{
 "cells": [
  {
   "cell_type": "code",
   "execution_count": 121,
   "metadata": {
    "collapsed": true
   },
   "outputs": [],
   "source": [
    "from PIL import Image\n",
    "from selenium import webdriver\n",
    "from bs4 import BeautifulSoup\n",
    "import requests"
   ]
  },
  {
   "cell_type": "code",
   "execution_count": 46,
   "metadata": {},
   "outputs": [],
   "source": [
    "URL = \"https://mlb.com/players\"\n",
    "\n",
    "# prepare the option for the chrome driver\n",
    "options = webdriver.ChromeOptions()\n",
    "options.add_argument('headless')\n",
    "\n",
    "# start chrome browser\n",
    "browser = webdriver.Chrome(options=options)"
   ]
  },
  {
   "cell_type": "code",
   "execution_count": 47,
   "metadata": {},
   "outputs": [],
   "source": [
    ""
   ]
  },
  {
   "cell_type": "code",
   "execution_count": 51,
   "metadata": {},
   "outputs": [],
   "source": [
    "e = browser.find_element_by_id('players-index')"
   ]
  },
  {
   "cell_type": "code",
   "execution_count": 123,
   "metadata": {},
   "outputs": [],
   "source": [
    "ids = []\n",
    "names = []"
   ]
  },
  {
   "cell_type": "code",
   "execution_count": 124,
   "metadata": {
    "collapsed": false
   },
   "outputs": [],
   "source": [
    "browser.get(URL)\n",
    "e = browser.find_element_by_id('players-index')\n",
    "for a in e.find_element_by_css_selector('*').find_elements_by_css_selector('*'):\n",
    "    link = a.get_attribute('href')\n",
    "    if link is None:\n",
    "        continue\n",
    "        \n",
    "    splits = link.split('/')\n",
    "    if len(splits) != 5:\n",
    "        continue\n",
    "    \n",
    "    ids.append(splits[-1].split('-')[-1])  \n",
    "    names.append(' '.join(splits[-1].split('-')[:-1]))"
   ]
  },
  {
   "cell_type": "code",
   "execution_count": 126,
   "metadata": {},
   "outputs": [
    {
     "data": {
      "text/plain": [
       "['cory abbott', 'albert abreu', 'bryan abreu']"
      ]
     },
     "execution_count": 126,
     "metadata": {},
     "output_type": "execute_result"
    }
   ],
   "source": [
    "names[:3]"
   ]
  },
  {
   "cell_type": "code",
   "execution_count": 129,
   "metadata": {
    "collapsed": true
   },
   "outputs": [],
   "source": [
    "pic_url = 'https://img.mlbstatic.com/mlb-photos/image/upload/d_people:generic:headshot:67:current.png/w_300,q_auto:best/v1/people/{}/headshot/67/current'\n",
    "for i, n in zip(ids, names):\n",
    "    response = requests.get(pic_url.format(i))\n",
    "    \n",
    "    if not response.ok:\n",
    "        print(response)\n",
    "    \n",
    "    with open('pics/{}.jpg'.format(n), 'wb') as handle:\n",
    "        for block in response.iter_content(1024):\n",
    "            if not block:\n",
    "                break\n",
    "\n",
    "            handle.write(block)\n",
    "    "
   ]
  }
 ],
 "metadata": {
  "kernelspec": {
   "display_name": "Python 2",
   "language": "python",
   "name": "python2"
  },
  "language_info": {
   "codemirror_mode": {
    "name": "ipython",
    "version": 2
   },
   "file_extension": ".py",
   "mimetype": "text/x-python",
   "name": "python",
   "nbconvert_exporter": "python",
   "pygments_lexer": "ipython2",
   "version": "2.7.6"
  }
 },
 "nbformat": 4,
 "nbformat_minor": 0
}
